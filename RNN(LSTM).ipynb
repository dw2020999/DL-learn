{
 "cells": [
  {
   "cell_type": "markdown",
   "id": "e04c28b5-8951-4b83-a971-994b3613cd0f",
   "metadata": {},
   "source": [
    "适用于为 ubuntu/debian 服务器安装 gost"
   ]
  }
 },
 "nbformat": 4,
 "nbformat_minor": 5
}
